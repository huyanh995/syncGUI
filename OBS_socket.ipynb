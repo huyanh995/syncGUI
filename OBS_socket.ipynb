{
 "cells": [
  {
   "cell_type": "code",
   "execution_count": 1,
   "id": "af74a469",
   "metadata": {},
   "outputs": [],
   "source": [
    "# Test OSB\n",
    "\n",
    "import obswebsocket"
   ]
  },
  {
   "cell_type": "code",
   "execution_count": 2,
   "id": "c5f658b0",
   "metadata": {},
   "outputs": [],
   "source": [
    "host = \"localhost\"\n",
    "port = 4444\n",
    "password = \"sbu\""
   ]
  },
  {
   "cell_type": "code",
   "execution_count": 3,
   "id": "401a2a9c",
   "metadata": {},
   "outputs": [],
   "source": [
    "from obswebsocket import obsws, requests"
   ]
  },
  {
   "cell_type": "code",
   "execution_count": 4,
   "id": "528e7a04",
   "metadata": {},
   "outputs": [],
   "source": [
    "ws = obsws(host, port, password)"
   ]
  },
  {
   "cell_type": "code",
   "execution_count": 24,
   "id": "f2b0f186",
   "metadata": {},
   "outputs": [],
   "source": [
    "ws.connect()"
   ]
  },
  {
   "cell_type": "code",
   "execution_count": 25,
   "id": "1778872e",
   "metadata": {},
   "outputs": [],
   "source": []
  },
  {
   "cell_type": "code",
   "execution_count": 6,
   "id": "bd6ccd40",
   "metadata": {},
   "outputs": [],
   "source": [
    "scenes = ws.call(requests.GetSceneList())"
   ]
  },
  {
   "cell_type": "code",
   "execution_count": 8,
   "id": "8d8428fd",
   "metadata": {},
   "outputs": [
    {
     "data": {
      "text/plain": [
       "[{'name': 'Lecture',\n",
       "  'sources': [{'alignment': 5,\n",
       "    'cx': 6016.0,\n",
       "    'cy': 3384.0,\n",
       "    'id': 8,\n",
       "    'locked': False,\n",
       "    'muted': False,\n",
       "    'name': 'LG',\n",
       "    'render': True,\n",
       "    'source_cx': 6016,\n",
       "    'source_cy': 3384,\n",
       "    'type': 'display_capture',\n",
       "    'volume': 1.0,\n",
       "    'x': 0.0,\n",
       "    'y': 0.0},\n",
       "   {'alignment': 5,\n",
       "    'cx': 3600.0,\n",
       "    'cy': 2338.0,\n",
       "    'id': 7,\n",
       "    'locked': False,\n",
       "    'muted': False,\n",
       "    'name': 'Display Capture',\n",
       "    'render': False,\n",
       "    'source_cx': 3600,\n",
       "    'source_cy': 2338,\n",
       "    'type': 'display_capture',\n",
       "    'volume': 1.0,\n",
       "    'x': 1.0,\n",
       "    'y': 1.0}]},\n",
       " {'name': 'Launcher',\n",
       "  'sources': [{'alignment': 5,\n",
       "    'cx': 0.0,\n",
       "    'cy': 0.0,\n",
       "    'id': 7,\n",
       "    'locked': False,\n",
       "    'muted': False,\n",
       "    'name': 'Loopback',\n",
       "    'render': True,\n",
       "    'source_cx': 0,\n",
       "    'source_cy': 0,\n",
       "    'type': 'coreaudio_input_capture',\n",
       "    'volume': 1.0,\n",
       "    'x': 0.0,\n",
       "    'y': 0.0},\n",
       "   {'alignment': 5,\n",
       "    'cx': 0.0,\n",
       "    'cy': 0.0,\n",
       "    'id': 6,\n",
       "    'locked': False,\n",
       "    'muted': False,\n",
       "    'name': 'Webcam_Audio',\n",
       "    'render': True,\n",
       "    'source_cx': 0,\n",
       "    'source_cy': 0,\n",
       "    'type': 'coreaudio_input_capture',\n",
       "    'volume': 1.0,\n",
       "    'x': 0.0,\n",
       "    'y': 0.0},\n",
       "   {'alignment': 5,\n",
       "    'cx': 3840.0,\n",
       "    'cy': 2160.0,\n",
       "    'id': 5,\n",
       "    'locked': False,\n",
       "    'muted': False,\n",
       "    'name': 'LG',\n",
       "    'render': False,\n",
       "    'source_cx': 6016,\n",
       "    'source_cy': 3384,\n",
       "    'type': 'display_capture',\n",
       "    'volume': 1.0,\n",
       "    'x': 0.0,\n",
       "    'y': 1080.0},\n",
       "   {'alignment': 5,\n",
       "    'cx': 0.0,\n",
       "    'cy': 0.0,\n",
       "    'id': 4,\n",
       "    'locked': False,\n",
       "    'muted': False,\n",
       "    'name': 'Audio',\n",
       "    'render': True,\n",
       "    'source_cx': 0,\n",
       "    'source_cy': 0,\n",
       "    'type': 'coreaudio_input_capture',\n",
       "    'volume': 1.0,\n",
       "    'x': 0.0,\n",
       "    'y': 0.0},\n",
       "   {'alignment': 5,\n",
       "    'cx': 1920.0,\n",
       "    'cy': 1080.0,\n",
       "    'id': 3,\n",
       "    'locked': False,\n",
       "    'muted': False,\n",
       "    'name': 'External Webcam',\n",
       "    'render': True,\n",
       "    'source_cx': 1280,\n",
       "    'source_cy': 720,\n",
       "    'type': 'av_capture_input',\n",
       "    'volume': 1.0,\n",
       "    'x': 0.0,\n",
       "    'y': 1080.0},\n",
       "   {'alignment': 5,\n",
       "    'cx': 1920.0,\n",
       "    'cy': 1080.0,\n",
       "    'id': 2,\n",
       "    'locked': False,\n",
       "    'muted': False,\n",
       "    'name': 'Built-in Webcam',\n",
       "    'render': True,\n",
       "    'source_cx': 1920,\n",
       "    'source_cy': 1080,\n",
       "    'type': 'av_capture_input',\n",
       "    'volume': 1.0,\n",
       "    'x': 1920.0,\n",
       "    'y': 0.0},\n",
       "   {'alignment': 5,\n",
       "    'cx': 3600.0,\n",
       "    'cy': 2338.0,\n",
       "    'id': 1,\n",
       "    'locked': False,\n",
       "    'muted': False,\n",
       "    'name': 'Macbook',\n",
       "    'render': True,\n",
       "    'source_cx': 3600,\n",
       "    'source_cy': 2338,\n",
       "    'type': 'display_capture',\n",
       "    'volume': 1.0,\n",
       "    'x': 0.0,\n",
       "    'y': 0.0}]}]"
      ]
     },
     "execution_count": 8,
     "metadata": {},
     "output_type": "execute_result"
    }
   ],
   "source": []
  },
  {
   "cell_type": "code",
   "execution_count": 9,
   "id": "f5c3cea3",
   "metadata": {},
   "outputs": [
    {
     "data": {
      "text/plain": [
       "['AddFilterToSource',\n",
       " 'AddSceneItem',\n",
       " 'Authenticate',\n",
       " 'Baserequests',\n",
       " 'BroadcastCustomMessage',\n",
       " 'CreateScene',\n",
       " 'CreateSource',\n",
       " 'DeleteSceneItem',\n",
       " 'DisableStudioMode',\n",
       " 'DuplicateSceneItem',\n",
       " 'EnableStudioMode',\n",
       " 'GetAudioActive',\n",
       " 'GetAudioMonitorType',\n",
       " 'GetAuthRequired',\n",
       " 'GetBrowserSourceProperties',\n",
       " 'GetCurrentProfile',\n",
       " 'GetCurrentScene',\n",
       " 'GetCurrentSceneCollection',\n",
       " 'GetCurrentTransition',\n",
       " 'GetFilenameFormatting',\n",
       " 'GetMediaDuration',\n",
       " 'GetMediaSourcesList',\n",
       " 'GetMediaState',\n",
       " 'GetMediaTime',\n",
       " 'GetMute',\n",
       " 'GetOutputInfo',\n",
       " 'GetPreviewScene',\n",
       " 'GetRecordingFolder',\n",
       " 'GetRecordingStatus',\n",
       " 'GetReplayBufferStatus',\n",
       " 'GetSceneItemList',\n",
       " 'GetSceneItemProperties',\n",
       " 'GetSceneList',\n",
       " 'GetSceneTransitionOverride',\n",
       " 'GetSourceFilterInfo',\n",
       " 'GetSourceFilters',\n",
       " 'GetSourceSettings',\n",
       " 'GetSourceTypesList',\n",
       " 'GetSourcesList',\n",
       " 'GetSpecialSources',\n",
       " 'GetStats',\n",
       " 'GetStreamSettings',\n",
       " 'GetStreamingStatus',\n",
       " 'GetStudioModeStatus',\n",
       " 'GetSyncOffset',\n",
       " 'GetTextFreetype2Properties',\n",
       " 'GetTextGDIPlusProperties',\n",
       " 'GetTransitionDuration',\n",
       " 'GetTransitionList',\n",
       " 'GetTransitionPosition',\n",
       " 'GetTransitionSettings',\n",
       " 'GetVersion',\n",
       " 'GetVideoInfo',\n",
       " 'GetVolume',\n",
       " 'ListOutputs',\n",
       " 'ListProfiles',\n",
       " 'ListSceneCollections',\n",
       " 'MoveSourceFilter',\n",
       " 'NextMedia',\n",
       " 'OpenProjector',\n",
       " 'PauseRecording',\n",
       " 'PlayPauseMedia',\n",
       " 'PreviousMedia',\n",
       " 'ReleaseTBar',\n",
       " 'RemoveFilterFromSource',\n",
       " 'RemoveSceneTransitionOverride',\n",
       " 'ReorderSceneItems',\n",
       " 'ReorderSourceFilter',\n",
       " 'ResetSceneItem',\n",
       " 'RestartMedia',\n",
       " 'ResumeRecording',\n",
       " 'SaveReplayBuffer',\n",
       " 'SaveStreamSettings',\n",
       " 'ScrubMedia',\n",
       " 'SendCaptions',\n",
       " 'SetAudioMonitorType',\n",
       " 'SetBrowserSourceProperties',\n",
       " 'SetCurrentProfile',\n",
       " 'SetCurrentScene',\n",
       " 'SetCurrentSceneCollection',\n",
       " 'SetCurrentTransition',\n",
       " 'SetFilenameFormatting',\n",
       " 'SetHeartbeat',\n",
       " 'SetMediaTime',\n",
       " 'SetMute',\n",
       " 'SetPreviewScene',\n",
       " 'SetRecordingFolder',\n",
       " 'SetSceneItemCrop',\n",
       " 'SetSceneItemPosition',\n",
       " 'SetSceneItemProperties',\n",
       " 'SetSceneItemRender',\n",
       " 'SetSceneItemTransform',\n",
       " 'SetSceneTransitionOverride',\n",
       " 'SetSourceFilterSettings',\n",
       " 'SetSourceFilterVisibility',\n",
       " 'SetSourceName',\n",
       " 'SetSourceSettings',\n",
       " 'SetStreamSettings',\n",
       " 'SetSyncOffset',\n",
       " 'SetTBarPosition',\n",
       " 'SetTextFreetype2Properties',\n",
       " 'SetTextGDIPlusProperties',\n",
       " 'SetTransitionDuration',\n",
       " 'SetTransitionSettings',\n",
       " 'SetVolume',\n",
       " 'StartOutput',\n",
       " 'StartRecording',\n",
       " 'StartReplayBuffer',\n",
       " 'StartStopRecording',\n",
       " 'StartStopReplayBuffer',\n",
       " 'StartStopStreaming',\n",
       " 'StartStreaming',\n",
       " 'StopMedia',\n",
       " 'StopOutput',\n",
       " 'StopRecording',\n",
       " 'StopReplayBuffer',\n",
       " 'StopStreaming',\n",
       " 'TakeSourceScreenshot',\n",
       " 'ToggleMute',\n",
       " 'ToggleStudioMode',\n",
       " 'TransitionToProgram',\n",
       " 'TriggerHotkeyByName',\n",
       " 'TriggerHotkeyBySequence',\n",
       " '__builtins__',\n",
       " '__cached__',\n",
       " '__doc__',\n",
       " '__file__',\n",
       " '__loader__',\n",
       " '__name__',\n",
       " '__package__',\n",
       " '__spec__']"
      ]
     },
     "execution_count": 9,
     "metadata": {},
     "output_type": "execute_result"
    }
   ],
   "source": [
    "dir(requests)"
   ]
  },
  {
   "cell_type": "code",
   "execution_count": 10,
   "id": "841658f2",
   "metadata": {},
   "outputs": [
    {
     "data": {
      "text/plain": [
       "<StartRecording request ({}) called: success ({})>"
      ]
     },
     "execution_count": 10,
     "metadata": {},
     "output_type": "execute_result"
    }
   ],
   "source": [
    "ws.call(requests.StartRecording())"
   ]
  },
  {
   "cell_type": "code",
   "execution_count": 11,
   "id": "1cdcf6a6",
   "metadata": {},
   "outputs": [
    {
     "data": {
      "text/plain": [
       "<StopRecording request ({}) called: success ({})>"
      ]
     },
     "execution_count": 11,
     "metadata": {},
     "output_type": "execute_result"
    }
   ],
   "source": [
    "ws.call(requests.StopRecording())"
   ]
  },
  {
   "cell_type": "code",
   "execution_count": 19,
   "id": "9fdf43d1",
   "metadata": {},
   "outputs": [],
   "source": [
    "output = ws.call(requests.SetRecordingFolder(\"~/Users/huyanh/Downloads\"))"
   ]
  },
  {
   "cell_type": "code",
   "execution_count": 22,
   "id": "3e2eeb1e",
   "metadata": {},
   "outputs": [
    {
     "data": {
      "text/plain": [
       "['__class__',\n",
       " '__delattr__',\n",
       " '__dict__',\n",
       " '__dir__',\n",
       " '__doc__',\n",
       " '__eq__',\n",
       " '__format__',\n",
       " '__ge__',\n",
       " '__getattribute__',\n",
       " '__gt__',\n",
       " '__hash__',\n",
       " '__init__',\n",
       " '__init_subclass__',\n",
       " '__le__',\n",
       " '__lt__',\n",
       " '__module__',\n",
       " '__ne__',\n",
       " '__new__',\n",
       " '__reduce__',\n",
       " '__reduce_ex__',\n",
       " '__repr__',\n",
       " '__setattr__',\n",
       " '__sizeof__',\n",
       " '__str__',\n",
       " '__subclasshook__',\n",
       " '__weakref__',\n",
       " 'data',\n",
       " 'datain',\n",
       " 'dataout',\n",
       " 'input',\n",
       " 'name',\n",
       " 'status']"
      ]
     },
     "execution_count": 22,
     "metadata": {},
     "output_type": "execute_result"
    }
   ],
   "source": [
    "dir(output)"
   ]
  },
  {
   "cell_type": "code",
   "execution_count": 23,
   "id": "7c593017",
   "metadata": {},
   "outputs": [
    {
     "data": {
      "text/plain": [
       "True"
      ]
     },
     "execution_count": 23,
     "metadata": {},
     "output_type": "execute_result"
    }
   ],
   "source": [
    "output.status"
   ]
  },
  {
   "cell_type": "code",
   "execution_count": 26,
   "id": "ceb47fa1",
   "metadata": {},
   "outputs": [
    {
     "data": {
      "text/plain": [
       "['__class__',\n",
       " '__delattr__',\n",
       " '__dict__',\n",
       " '__dir__',\n",
       " '__doc__',\n",
       " '__eq__',\n",
       " '__format__',\n",
       " '__ge__',\n",
       " '__getattribute__',\n",
       " '__gt__',\n",
       " '__hash__',\n",
       " '__init__',\n",
       " '__init_subclass__',\n",
       " '__le__',\n",
       " '__lt__',\n",
       " '__module__',\n",
       " '__ne__',\n",
       " '__new__',\n",
       " '__reduce__',\n",
       " '__reduce_ex__',\n",
       " '__repr__',\n",
       " '__setattr__',\n",
       " '__sizeof__',\n",
       " '__str__',\n",
       " '__subclasshook__',\n",
       " '__weakref__',\n",
       " '_auth',\n",
       " '_run_threads',\n",
       " '_wait_message',\n",
       " 'answers',\n",
       " 'call',\n",
       " 'connect',\n",
       " 'disconnect',\n",
       " 'eventmanager',\n",
       " 'host',\n",
       " 'id',\n",
       " 'password',\n",
       " 'port',\n",
       " 'reconnect',\n",
       " 'register',\n",
       " 'send',\n",
       " 'thread_recv',\n",
       " 'unregister',\n",
       " 'ws']"
      ]
     },
     "execution_count": 26,
     "metadata": {},
     "output_type": "execute_result"
    },
    {
     "name": "stderr",
     "output_type": "stream",
     "text": [
      "Exception in thread Thread-6:\n",
      "Traceback (most recent call last):\n",
      "  File \"/Users/huyanh/miniconda3/envs/launcher/lib/python3.8/site-packages/obswebsocket/core.py\", line 226, in run\n",
      "    message = self.ws.recv()\n",
      "  File \"/Users/huyanh/miniconda3/envs/launcher/lib/python3.8/site-packages/websocket/_core.py\", line 362, in recv\n",
      "    opcode, data = self.recv_data()\n",
      "  File \"/Users/huyanh/miniconda3/envs/launcher/lib/python3.8/site-packages/websocket/_core.py\", line 385, in recv_data\n",
      "    opcode, frame = self.recv_data_frame(control_frame)\n",
      "  File \"/Users/huyanh/miniconda3/envs/launcher/lib/python3.8/site-packages/websocket/_core.py\", line 406, in recv_data_frame\n",
      "    frame = self.recv_frame()\n",
      "  File \"/Users/huyanh/miniconda3/envs/launcher/lib/python3.8/site-packages/websocket/_core.py\", line 445, in recv_frame\n",
      "    return self.frame_buffer.recv_frame()\n",
      "  File \"/Users/huyanh/miniconda3/envs/launcher/lib/python3.8/site-packages/websocket/_abnf.py\", line 341, in recv_frame\n",
      "    self.recv_header()\n",
      "  File \"/Users/huyanh/miniconda3/envs/launcher/lib/python3.8/site-packages/websocket/_abnf.py\", line 297, in recv_header\n",
      "    header = self.recv_strict(2)\n",
      "  File \"/Users/huyanh/miniconda3/envs/launcher/lib/python3.8/site-packages/websocket/_abnf.py\", line 376, in recv_strict\n",
      "    bytes_ = self.recv(min(16384, shortage))\n",
      "  File \"/Users/huyanh/miniconda3/envs/launcher/lib/python3.8/site-packages/websocket/_core.py\", line 529, in _recv\n",
      "    return recv(self.sock, bufsize)\n",
      "  File \"/Users/huyanh/miniconda3/envs/launcher/lib/python3.8/site-packages/websocket/_socket.py\", line 125, in recv\n",
      "    raise WebSocketConnectionClosedException(\n",
      "websocket._exceptions.WebSocketConnectionClosedException: Connection to remote host was lost.\n",
      "\n",
      "During handling of the above exception, another exception occurred:\n",
      "\n",
      "Traceback (most recent call last):\n",
      "  File \"/Users/huyanh/miniconda3/envs/launcher/lib/python3.8/site-packages/obswebsocket/core.py\", line 68, in connect\n",
      "    self.ws.connect(\"ws://{}:{}\".format(self.host, self.port))\n",
      "  File \"/Users/huyanh/miniconda3/envs/launcher/lib/python3.8/site-packages/websocket/_core.py\", line 249, in connect\n",
      "    self.sock, addrs = connect(url, self.sock_opt, proxy_info(**options),\n",
      "  File \"/Users/huyanh/miniconda3/envs/launcher/lib/python3.8/site-packages/websocket/_http.py\", line 130, in connect\n",
      "    sock = _open_socket(addrinfo_list, options.sockopt, options.timeout)\n",
      "  File \"/Users/huyanh/miniconda3/envs/launcher/lib/python3.8/site-packages/websocket/_http.py\", line 206, in _open_socket\n",
      "    raise err\n",
      "  File \"/Users/huyanh/miniconda3/envs/launcher/lib/python3.8/site-packages/websocket/_http.py\", line 185, in _open_socket\n",
      "    sock.connect(address)\n",
      "ConnectionRefusedError: [Errno 61] Connection refused\n",
      "\n",
      "During handling of the above exception, another exception occurred:\n",
      "\n",
      "Traceback (most recent call last):\n",
      "  File \"/Users/huyanh/miniconda3/envs/launcher/lib/python3.8/threading.py\", line 932, in _bootstrap_inner\n",
      "    self.run()\n",
      "  File \"/Users/huyanh/miniconda3/envs/launcher/lib/python3.8/site-packages/obswebsocket/core.py\", line 245, in run\n",
      "    self.core.reconnect()\n",
      "  File \"/Users/huyanh/miniconda3/envs/launcher/lib/python3.8/site-packages/obswebsocket/core.py\", line 86, in reconnect\n",
      "    self.connect()\n",
      "  File \"/Users/huyanh/miniconda3/envs/launcher/lib/python3.8/site-packages/obswebsocket/core.py\", line 73, in connect\n",
      "    raise exceptions.ConnectionFailure(str(e))\n",
      "obswebsocket.exceptions.ConnectionFailure: [Errno 61] Connection refused\n"
     ]
    }
   ],
   "source": [
    "dir(ws)"
   ]
  },
  {
   "cell_type": "code",
   "execution_count": null,
   "id": "4e0584c6",
   "metadata": {},
   "outputs": [],
   "source": []
  }
 ],
 "metadata": {
  "kernelspec": {
   "display_name": "Python 3 (ipykernel)",
   "language": "python",
   "name": "python3"
  },
  "language_info": {
   "codemirror_mode": {
    "name": "ipython",
    "version": 3
   },
   "file_extension": ".py",
   "mimetype": "text/x-python",
   "name": "python",
   "nbconvert_exporter": "python",
   "pygments_lexer": "ipython3",
   "version": "3.8.12"
  }
 },
 "nbformat": 4,
 "nbformat_minor": 5
}
